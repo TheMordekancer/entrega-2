{
 "cells": [
  {
   "cell_type": "markdown",
   "metadata": {},
   "source": [
    "Abrimos los archivos ,Leemos los archivos y asignamos a sus variables a lista, al mismo tiempo que los voy cerrando"
   ]
  },
  {
   "cell_type": "code",
   "execution_count": 8,
   "metadata": {},
   "outputs": [],
   "source": [
    "f=open(\"nombres_1.txt\", \"r\", encoding=\"utf-8\")\n",
    "\n",
    "nombresuno =f.read().replace(',', ' ').split()\n",
    "f.close()\n",
    "f=open(\"nombres_2.txt\", \"r\", encoding=\"utf-8\")\n",
    "nombresdos = f.read().replace(',', ' ').split()\n",
    "f.close()\n",
    "f=open(\"eval1.txt\", \"r\", encoding=\"utf-8\")\n",
    "eval1 = f.read().replace(',', ' ').split()\n",
    "f.close()\n",
    "f=open(\"eval2.txt\", \"r\", encoding=\"utf-8\")\n",
    "eval2 = f.read().replace(',', ' ').split()\n",
    "f.close()"
   ]
  },
  {
   "cell_type": "markdown",
   "metadata": {},
   "source": [
    "busco si existe nombres similares para mostrarlos en pantalla"
   ]
  },
  {
   "cell_type": "code",
   "execution_count": 13,
   "metadata": {},
   "outputs": [
    {
     "name": "stdout",
     "output_type": "stream",
     "text": [
      "\n",
      "Estos nombres que se encuentran en ambos archivos:\n",
      "[\"'Agustin'\", \"'Bautista'\", \"'CESAR'\", \"'Diego'\", \"'ELIANA'\", \"'Facundo'\", \"'Facundo'\", \"'Ignacio'\", \"'JUAN'\", \"'Juan'\", \"'Juan'\", \"'Marcos'\", \"'MATEO'\", \"'Matias'\", \"'Tomás'\", \"'Ulises'\", \"'Yanina'\"]\n"
     ]
    }
   ],
   "source": [
    "\n",
    "print()\n",
    "print('Estos nombres que se encuentran en ambos archivos:')\n",
    "nombresEnAmbos = []\n",
    "for n in nombresuno :\n",
    "    if n in nombresdos :\n",
    "        nombresEnAmbos.append(n)    \n",
    "print(nombresEnAmbos)"
   ]
  },
  {
   "cell_type": "markdown",
   "metadata": {},
   "source": [
    "Itero sobre cada nombre y notas, utilizo la funcion zip que nos permite empaquetar en tuplas los elementos para iterar.\n",
    "El metodo format() inserta dentro del marcador de posición de la cadena que se define mediante corchetes: {}.Permitiendo asi imprimir una tabla con los valores buscados"
   ]
  },
  {
   "cell_type": "code",
   "execution_count": 10,
   "metadata": {},
   "outputs": [
    {
     "name": "stdout",
     "output_type": "stream",
     "text": [
      "   Nombre         Eval1    Eval2    Total\n",
      " 0 'Agustin'       81       30       111     \n",
      " 1 'Alan'          60       95       155     \n",
      " 2 'Andrés'        72       28       100     \n",
      " 3 'Ariadna'       24       84       108     \n",
      " 4 'Bautista'      15       84       99      \n",
      " 5 'CAROLINA'      91       43       134     \n",
      " 6 'CESAR'         12       66       78      \n",
      " 7 'David'         70       51       121     \n",
      " 8 'Diego'         29       4        33      \n",
      " 9 'Dolores'       42       11       53      \n",
      "10 'DYLAN'         16       58       74      \n",
      "11 'ELIANA'        3        10       13      \n",
      "12 'Emanuel'       35       13       48      \n",
      "13 'Fabián'        67       34       101     \n",
      "14 'Facundo'       10       96       106     \n",
      "15 'Facundo'       57       71       128     \n",
      "16 'FEDERICO'      11       86       97      \n",
      "17 'FEDERICO'      69       37       106     \n",
      "18 'GONZALO'       12       64       76      \n",
      "19 'Gregorio'      77       13       90      \n",
      "20 'Ignacio'       13       8        21      \n",
      "21 'Jonathan'      86       87       173     \n",
      "22 'Jonathan'      48       14       62      \n",
      "23 'Jorge'         65       14       79      \n",
      "24 'JOSE'          51       49       100     \n",
      "25 'JUAN'          41       27       68      \n",
      "26 'Juan'          87       55       142     \n",
      "27 'Juan'          43       69       112     \n",
      "28 'Julian'        10       77       87      \n",
      "29 'Julieta'       87       59       146     \n",
      "30 'LAUTARO'       91       57       148     \n",
      "31 'Leonel'        15       40       55      \n",
      "32 'LUIS'          44       96       140     \n",
      "33 'Luis'          85       24       109     \n",
      "34 'Marcos'        73       30       103     \n",
      "35 'María'         37       73       110     \n",
      "36 'MATEO'         42       95       137     \n",
      "37 'Matias'        95       19       114     \n",
      "38 'Nicolás'       18       47       65      \n",
      "39 'NICOLÁS'       7        15       22      \n",
      "40 'Noelia'        74       31       105     \n",
      "41 'Pablo'         60       39       99      \n",
      "42 'Priscila'      9        15       24      \n",
      "43 'TOMAS'         65       74       139     \n",
      "44 'Tomás'         93       33       126     \n",
      "45 'Ulises'        63       57       120     \n",
      "46 'Yanina'        74       10       84      \n"
     ]
    }
   ],
   "source": [
    "print('   {:<10}  {:>8} {:>8} {:>8}'.format('Nombre', 'Eval1', 'Eval2', 'Total'))\n",
    "for i, valor in enumerate(zip(nombresuno, eval1, eval2)) :\n",
    "    print('{:>2} {:<15} {:<8} {:<8} {:<8}'.format(i, valor[0], valor[1], valor[2], int(valor[1]) + int(valor[2])))"
   ]
  }
 ],
 "metadata": {
  "kernelspec": {
   "display_name": "Python 3 (ipykernel)",
   "language": "python",
   "name": "python3"
  },
  "language_info": {
   "codemirror_mode": {
    "name": "ipython",
    "version": 3
   },
   "file_extension": ".py",
   "mimetype": "text/x-python",
   "name": "python",
   "nbconvert_exporter": "python",
   "pygments_lexer": "ipython3",
   "version": "3.10.4"
  }
 },
 "nbformat": 4,
 "nbformat_minor": 4
}
